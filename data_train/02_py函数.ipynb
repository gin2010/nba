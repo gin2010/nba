{
 "cells": [
  {
   "cell_type": "code",
   "execution_count": 7,
   "metadata": {},
   "outputs": [
    {
     "name": "stdout",
     "output_type": "stream",
     "text": [
      "4\n"
     ]
    }
   ],
   "source": [
    "# 必须掌握函数的四种类型的参数\n",
    "# 必填参数，可变参数，缺省参数，关键字参数\n",
    "\n",
    "# 必填参数,\n",
    "def add(x,y):\n",
    "    return x+y\n",
    "# 函数名本质就是函数的地址\n",
    "add2 = add\n",
    "print(add2(1,3))"
   ]
  },
  {
   "cell_type": "code",
   "execution_count": 15,
   "metadata": {},
   "outputs": [
    {
     "name": "stdout",
     "output_type": "stream",
     "text": [
      "(1, 2, 3, 4, 5) <class 'tuple'>\n",
      "15\n",
      "(2, 4, 6, 8, 10, 15) <class 'tuple'>\n",
      "45\n"
     ]
    }
   ],
   "source": [
    "# 可变参数在定义时一个*代表可变参数\n",
    "def add(*param):\n",
    "    print(param,type(param))\n",
    "    sum = 0\n",
    "    for i in param:\n",
    "        sum +=i\n",
    "    return sum\n",
    "    \n",
    "print(add(1,2,3,4,5,))\n",
    "# 函数本身接受的参数就是list set tuple序列\n",
    "l = {2,4,6,8,10,15}\n",
    "# 在调用时实参的一个*可以对序列进行解包(list set tuple)\n",
    "print(add(*l))"
   ]
  },
  {
   "cell_type": "code",
   "execution_count": 16,
   "metadata": {},
   "outputs": [
    {
     "name": "stdout",
     "output_type": "stream",
     "text": [
      "name:张三,addr:北京\n",
      "name:李四,addr:天津\n"
     ]
    }
   ],
   "source": [
    "def show(name,addr='北京'):\n",
    "    print(f'name:{name},addr:{addr}')\n",
    "\n",
    "show('张三')\n",
    "show('李四','天津')"
   ]
  },
  {
   "cell_type": "code",
   "execution_count": 22,
   "metadata": {},
   "outputs": [
    {
     "name": "stdout",
     "output_type": "stream",
     "text": [
      "name:张三,other:{'age': 32, 'address': '武汉'},<class 'dict'>\n",
      "name:李四,other:{'age': 32, 'address': '武汉'},<class 'dict'>\n"
     ]
    }
   ],
   "source": [
    "# 在定义时如果**代表关键字参数\n",
    "def show(name,**other):\n",
    "    print(f'name:{name},other:{other},{type(other)}')\n",
    "\n",
    "# 关键字直接赋值: name = value \n",
    "show('张三',age=32,address='武汉')\n",
    "d = {'age': 32, 'address': '武汉'}\n",
    "# 调用时**代表对字典解包\n",
    "show('李四',**d)"
   ]
  },
  {
   "cell_type": "code",
   "execution_count": null,
   "metadata": {},
   "outputs": [],
   "source": []
  }
 ],
 "metadata": {
  "kernelspec": {
   "display_name": "Python 3",
   "language": "python",
   "name": "python3"
  },
  "language_info": {
   "codemirror_mode": {
    "name": "ipython",
    "version": 3
   },
   "file_extension": ".py",
   "mimetype": "text/x-python",
   "name": "python",
   "nbconvert_exporter": "python",
   "pygments_lexer": "ipython3",
   "version": "3.7.3"
  }
 },
 "nbformat": 4,
 "nbformat_minor": 2
}
