{
 "cells": [
  {
   "cell_type": "code",
   "execution_count": 4,
   "metadata": {},
   "outputs": [
    {
     "name": "stdout",
     "output_type": "stream",
     "text": [
      "10 <class 'int'>\n",
      "10 <class 'str'>\n",
      "10 <class 'str'>\n",
      "10\n",
      "20\n",
      "30\n",
      " <class 'str'>\n"
     ]
    }
   ],
   "source": [
    "# 变量没有类型,因此必须初始化，变量的类型取决数据本身\n",
    "# shift + enter 运行当前行\n",
    "a = 10\n",
    "print(a,type(a))\n",
    "a = '10'\n",
    "print(a,type(a))\n",
    "a = \"10\"\n",
    "print(a,type(a))\n",
    "a = '''10\n",
    "20\n",
    "30\n",
    "'''\n",
    "print(a,type(a))"
   ]
  },
  {
   "cell_type": "code",
   "execution_count": 7,
   "metadata": {},
   "outputs": [
    {
     "name": "stdout",
     "output_type": "stream",
     "text": [
      "2\n"
     ]
    }
   ],
   "source": [
    "# python 没有自增   i++  ++i\n",
    "i = 0\n",
    "i = i+1\n",
    "i +=1\n",
    "print(i)"
   ]
  },
  {
   "cell_type": "code",
   "execution_count": null,
   "metadata": {},
   "outputs": [],
   "source": [
    "# python没有do...while switch 只有for while 而且else一起使用"
   ]
  },
  {
   "cell_type": "code",
   "execution_count": 10,
   "metadata": {},
   "outputs": [
    {
     "name": "stdout",
     "output_type": "stream",
     "text": [
      "邮箱名 10000\n",
      "邮箱类型 qq.com\n"
     ]
    }
   ],
   "source": [
    "# python强大切片功能\n",
    "email = '10000@qq.com'\n",
    "print('邮箱名', email[:5])\n",
    "print('邮箱类型', email[5+1:])"
   ]
  },
  {
   "cell_type": "code",
   "execution_count": 13,
   "metadata": {},
   "outputs": [
    {
     "name": "stdout",
     "output_type": "stream",
     "text": [
      "请输入邮箱12345@qq.com\n",
      "5\n"
     ]
    }
   ],
   "source": [
    "# 输入邮箱，且动态获取@\n",
    "email = input('请输入邮箱')\n",
    "index =email.find('@')\n",
    "if index == -1:\n",
    "    "
   ]
  },
  {
   "cell_type": "code",
   "execution_count": null,
   "metadata": {},
   "outputs": [],
   "source": []
  }
 ],
 "metadata": {
  "kernelspec": {
   "display_name": "Python 3",
   "language": "python",
   "name": "python3"
  },
  "language_info": {
   "codemirror_mode": {
    "name": "ipython",
    "version": 3
   },
   "file_extension": ".py",
   "mimetype": "text/x-python",
   "name": "python",
   "nbconvert_exporter": "python",
   "pygments_lexer": "ipython3",
   "version": "3.7.3"
  }
 },
 "nbformat": 4,
 "nbformat_minor": 2
}
